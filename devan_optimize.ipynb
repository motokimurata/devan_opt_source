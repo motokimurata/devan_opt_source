{
 "cells": [
  {
   "cell_type": "code",
   "execution_count": 1,
   "metadata": {},
   "outputs": [],
   "source": [
    "import numpy as np\n",
    "import pandas as pd\n",
    "from datetime import datetime as dt\n",
    "from datetime import timedelta as td\n",
    "import tkinter as tk\n",
    "import tkinter.filedialog, tkinter.messagebox\n",
    "import tkinter.ttk as ttk\n",
    "from pulp import*\n",
    "from ortoolpy import addvars, addbinvars\n",
    "import matplotlib.pyplot as plt\n",
    "from matplotlib.ticker import MultipleLocator\n",
    "from matplotlib.backends.backend_tkagg import FigureCanvasTkAgg\n",
    "from opt_gui import show_table"
   ]
  },
  {
   "cell_type": "code",
   "execution_count": 2,
   "metadata": {},
   "outputs": [],
   "source": [
    "def pulp_to_int(tgtlist):\n",
    "    int_list = [int(str(tgtlist[i])) for i in range (len(tgtlist))]\n",
    "    return int_list "
   ]
  },
  {
   "cell_type": "code",
   "execution_count": 3,
   "metadata": {},
   "outputs": [
    {
     "name": "stderr",
     "output_type": "stream",
     "text": [
      "/tmp/ipykernel_12827/28779521.py:29: DeprecationWarning: `np.bool` is a deprecated alias for the builtin `bool`. To silence this warning, use `bool` by itself. Doing this will not modify any behavior and is safe. If you specifically wanted the numpy scalar type, use `np.bool_` here.\n",
      "Deprecated in NumPy 1.20; for more details and guidance: https://numpy.org/devdocs/release/1.20.0-notes.html#deprecations\n",
      "  tbl0 = tbl0.astype(np.bool).copy() #希望日付を1に変更\n",
      "/tmp/ipykernel_12827/28779521.py:30: DeprecationWarning: `np.bool` is a deprecated alias for the builtin `bool`. To silence this warning, use `bool` by itself. Doing this will not modify any behavior and is safe. If you specifically wanted the numpy scalar type, use `np.bool_` here.\n",
      "Deprecated in NumPy 1.20; for more details and guidance: https://numpy.org/devdocs/release/1.20.0-notes.html#deprecations\n",
      "  tbl2 = tbl2.astype(np.bool).copy() #希望日付を1に変更\n",
      "/tmp/ipykernel_12827/28779521.py:34: DeprecationWarning: `np.int` is a deprecated alias for the builtin `int`. To silence this warning, use `int` by itself. Doing this will not modify any behavior and is safe. When replacing `np.int`, you may wish to use e.g. `np.int64` or `np.int32` to specify the precision. If you wish to review your current use, check the release note link for additional information.\n",
      "Deprecated in NumPy 1.20; for more details and guidance: https://numpy.org/devdocs/release/1.20.0-notes.html#deprecations\n",
      "  tbl_2 = tbl_2.astype(np.int) #0と1に戻す。\n"
     ]
    }
   ],
   "source": [
    "# ファイル選択ダイアログの表示\n",
    "root2 = tk.Tk()\n",
    "root2.withdraw()\n",
    "\n",
    "# ここの1行を変更　fTyp = [(\"\",\"*\")] →　fTyp = [(\"\",\"*.csv\")]\n",
    "fTyp = [(\"\",\"*.csv\")]\n",
    "curdir = os.getcwd()\n",
    "iDir = curdir\n",
    "file = tkinter.filedialog.askopenfilename(filetypes = fTyp ,initialdir = iDir)\n",
    "\n",
    "\n",
    "tbl1 = pd.read_csv(file) #csvの読み込み\n",
    "\n",
    "a = pd.to_datetime(tbl1['入港日'])\n",
    "b = pd.to_datetime(tbl1['希望納品日'])\n",
    "daymin = a.min()+ td(days=1) #すべてのコンテナの入港日のうち一番若い日付+1日を取得\n",
    "daymax = b.max()  #すべてのコンテナの希望納品日のうち一番先の日付を取得\n",
    "day = (daymax - daymin).days + 1 #日数\n",
    "daylist =[daymin.date() + td(days = i) for i in range(day)] \n",
    "# 今回のサンプルはdaymin=1/27、daymax=2/15なので1/27-2/15の日付リストを作成する。\n",
    "ctn = len(tbl1) #コンテナ数\n",
    "tbl0 = np.zeros(ctn*day).reshape(ctn,day)\n",
    "tbl2 = np.zeros(ctn*day).reshape(ctn,day)\n",
    "for i in range(ctn):\n",
    "    wnt = (b[i]-daymin).days\n",
    "    pod = (a[i]-daymin).days\n",
    "    tbl0[i,wnt]=1 # 納品希望日を1にする\n",
    "    tbl2[i,pod+1:wnt]=1 # 入港日+1日～納品希望日まで1にする。\n",
    "tbl0 = tbl0.astype(np.bool).copy() #希望日付を1に変更\n",
    "tbl2 = tbl2.astype(np.bool).copy() #希望日付を1に変更\n",
    "before_list = [lpSum(tbl0[:,i]) for i in range(day)]\n",
    "\n",
    "tbl_2 = ~tbl2 #最小化問題のため、Trueで納品できたときは目的関数の計算で0になるようにする。~でFalseとTrueを裏返す。\n",
    "tbl_2 = tbl_2.astype(np.int) #0と1に戻す。"
   ]
  },
  {
   "cell_type": "code",
   "execution_count": 4,
   "metadata": {},
   "outputs": [],
   "source": [
    "# 倉庫受入枠のテーブル。平日は5本/日、土日は0本/日とする。\n",
    "tbl3 = np.zeros(day)\n",
    "count = daymin\n",
    "for i in range(day):\n",
    "    if count.weekday() == 5 or count.weekday() == 6: #5が土曜、6が日曜\n",
    "        tbl3[i] = 0\n",
    "    else:\n",
    "        tbl3[i] = 5\n",
    "    count += td(days=1)"
   ]
  },
  {
   "cell_type": "code",
   "execution_count": 5,
   "metadata": {},
   "outputs": [],
   "source": [
    "tbl4 = tbl_2*10000\n",
    "for i in range(ctn):\n",
    "    pod = (a[i]-daymin).days\n",
    "    count = 0 \n",
    "    for j in range(day-pod):\n",
    "        tbl4[i,j+pod]=count\n",
    "        count+=1\n",
    "\n",
    "# 入港日+1日以前には納品できないので、最適解にならないよう10000点を置く。\n",
    "# 入港日+1日以降の納品は物理的には可能なので、0から数字を置いていく。\n",
    "# なるべく前の日付で納品されるよう、若い順に0から点数をつける。"
   ]
  },
  {
   "cell_type": "code",
   "execution_count": 6,
   "metadata": {},
   "outputs": [],
   "source": [
    "tbl5 = np.array(addbinvars(day,ctn))\n",
    "#コンテナ本数×日数の変数matrix方を作成(バイナリ変数)\n",
    "\n",
    "tbl6 = addvars(day) # 納品オーバーを計算し入れるための変数（非負変数）を日数分作成\n",
    "\n",
    "tbl_2 = tbl_2.T.tolist() #目的関数作成用に変換\n",
    "tbl3 = tbl3.T.tolist()\n",
    "tbl4 = tbl4.T.tolist()"
   ]
  },
  {
   "cell_type": "code",
   "execution_count": 7,
   "metadata": {},
   "outputs": [
    {
     "name": "stdout",
     "output_type": "stream",
     "text": [
      "目的関数 115.0\n"
     ]
    }
   ],
   "source": [
    "Cwhs = 100 #受入枠を超えたときのペナルティ\n",
    "Cnwnt = 10 #納品希望日以外のペナルティ(この定数とtbl4の内積がペナルティ)\n",
    "Clt = 1 #リードタイムが1日増えると1点ペナルティ。LT重みは1のため不要だが、今後の修正のために残す。\n",
    "\n",
    "m = LpProblem(sense=LpMinimize) #最小化問題の宣言\n",
    "m += (Cwhs * lpSum(tbl6)\n",
    "    + Cnwnt * lpDot(tbl_2,tbl5)\n",
    "    + Clt * lpDot(tbl4,tbl5))\n",
    "# 目的関数の式\n",
    "# 1行目は納品制限本数を超過した本数当たり、納品オーバー分のペナルティ\n",
    "# 2行目は納品可能日ではない日に納品した本数あたり、希望不可分のペナルティ\n",
    "# 3行目は各コンテナ納品した日付でのLT合計。\n",
    "# すべての合計が最小になるときのスケジュール表を出力\n",
    "\n",
    "for i in range(day):\n",
    "    m += tbl6[i] >= (lpSum(tbl5[i,:])-tbl3[i])\n",
    "# 制約条件の式1\n",
    "# 納品オーバーの計算式（納品本数ー最大納品数）になる。\n",
    "# 納品本数オーバーは非負の変数で（納品本数ー最大納品数）以上の任意の正の値\n",
    "# 目的関数上、任意の値のうち最小の値、すなわち（納品本数ー最大納品数）となる\n",
    "# 2行目のーの式を入れたほうが納品本数のばらつきが収まる。\n",
    "\n",
    "for j in range(ctn):\n",
    "    m += lpSum(tbl5[:,j]) <= 1\n",
    "    m += lpSum(tbl5[:,j]) >= 1\n",
    "\n",
    "# 制約条件の式2\n",
    "# 1コンテナあたりの納品日を必ず1つ決める\n",
    "\n",
    "m.solve()\n",
    "print('目的関数', value(m.objective))"
   ]
  },
  {
   "cell_type": "code",
   "execution_count": 8,
   "metadata": {},
   "outputs": [],
   "source": [
    "result = np.vectorize(value)(tbl5).astype(int).T #ソルバーの出力結果（日にち×コンテナ数で0-1が埋まっている）\n",
    "after_list=[lpSum(result[:,i]) for i in range(day)]\n",
    "daykey = [i for i in range(day)] \n",
    "datedic = {key: date for key, date in zip(daykey, daylist)} \n",
    "result = [datedic[sum(result[i]*daykey)] for i in range(ctn)] #intからdateに変換\n",
    "\n",
    "tbl1['入港日'] = a.copy()\n",
    "tbl1['希望納品日'] = b.copy()\n",
    "tbl1['最適納品日']= result\n",
    "tbl1.to_csv('devan_opt.csv',index=False,encoding='utf-8_sig')   "
   ]
  },
  {
   "cell_type": "code",
   "execution_count": 9,
   "metadata": {},
   "outputs": [
    {
     "data": {
      "image/png": "[encoded data removed]",
      "text/plain": [
       "<Figure size 800x600 with 2 Axes>"
      ]
     },
     "metadata": {
      "needs_background": "light"
     },
     "output_type": "display_data"
    }
   ],
   "source": [
    "b_list = pulp_to_int(before_list)\n",
    "a_list = pulp_to_int(after_list)\n",
    "day_str = [str(daylist[i]) for i in range(len(daylist))]\n",
    "x = [i for i in range(len(daylist))]\n",
    "ctn_l = tbl1['コンテナ番号']\n",
    "wnt_l = tbl1['希望納品日']\n",
    "opt_l = tbl1['最適納品日']\n",
    "show_table(ctn_l,wnt_l,opt_l,x,day_str,b_list,a_list)"
   ]
  }
 ],
 "metadata": {
  "interpreter": {
   "hash": "c456df6fcef52b69e159f655b38626d79b678b6e5963eed0e694595d7c2418c7"
  },
  "kernelspec": {
   "display_name": "Python 3.9.2 ('py34_opt-dkeZXBE_')",
   "language": "python",
   "name": "python3"
  },
  "language_info": {
   "codemirror_mode": {
    "name": "ipython",
    "version": 3
   },
   "file_extension": ".py",
   "mimetype": "text/x-python",
   "name": "python",
   "nbconvert_exporter": "python",
   "pygments_lexer": "ipython3",
   "version": "3.8.10"
  },
  "orig_nbformat": 4
 },
 "nbformat": 4,
 "nbformat_minor": 2
}
